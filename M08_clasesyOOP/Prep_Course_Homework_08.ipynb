{
 "cells": [
  {
   "attachments": {},
   "cell_type": "markdown",
   "metadata": {},
   "source": [
    "## Clases y Programación Orientada a Objetos"
   ]
  },
  {
   "attachments": {},
   "cell_type": "markdown",
   "metadata": {},
   "source": [
    "1) Crear la clase vehículo que contenga los atributos:<br>\n",
    "Color<br>\n",
    "Si es moto, auto, camioneta ó camión<br>\n",
    "Cilindrada del motor"
   ]
  },
  {
   "cell_type": "code",
   "execution_count": 1,
   "metadata": {},
   "outputs": [],
   "source": [
    "class Vehículo:\n",
    "    def __init__(self,Color,Tipo,Cilindrada):\n",
    "        self.Color = Color\n",
    "        self.Tipo = Tipo\n",
    "        self.Cilindrada = Cilindrada  "
   ]
  },
  {
   "attachments": {},
   "cell_type": "markdown",
   "metadata": {},
   "source": [
    "2) A la clase Vehiculo creada en el punto 1, agregar los siguientes métodos:<br>\n",
    "Acelerar<br>\n",
    "Frenar<br>\n",
    "Doblar<br>"
   ]
  },
  {
   "cell_type": "code",
   "execution_count": 2,
   "metadata": {},
   "outputs": [],
   "source": [
    "class Vehículo:\n",
    "    def __init__(self,Color,Tipo,Cilindrada):\n",
    "        self.Color = Color\n",
    "        self.Tipo = Tipo\n",
    "        self.Cilindrada = Cilindrada\n",
    "    \n",
    "    def Acelerador(self):\n",
    "        print(\"acelerando\")\n",
    "    \n",
    "    def Frenar(self):\n",
    "        print(\"frenando\")\n",
    "\n",
    "    def Doblar(self):\n",
    "        print(\"doblando\")"
   ]
  },
  {
   "attachments": {},
   "cell_type": "markdown",
   "metadata": {},
   "source": [
    "3) Instanciar 3 objetos de la clase vehículo y ejecutar sus métodos, probar luego el resultado"
   ]
  },
  {
   "cell_type": "code",
   "execution_count": 3,
   "metadata": {},
   "outputs": [
    {
     "name": "stdout",
     "output_type": "stream",
     "text": [
      "acelerando\n",
      "frenando\n",
      "doblando\n"
     ]
    }
   ],
   "source": [
    "vehículo1 = Vehículo('amarillo','taxi',1300)\n",
    "vehículo2 = Vehículo('Negro','limo',2000)\n",
    "vehículo3 = Vehículo('plata','moto',500)\n",
    "\n",
    "vehículo1.Acelerador()\n",
    "vehículo2.Frenar()\n",
    "vehículo3.Doblar()"
   ]
  },
  {
   "attachments": {},
   "cell_type": "markdown",
   "metadata": {},
   "source": [
    "4) Agregar a la clase Vehiculo, un método que muestre su estado, es decir, a que velocidad se encuentra y su dirección. Y otro método que muestre color, tipo y cilindrada"
   ]
  },
  {
   "cell_type": "code",
   "execution_count": 4,
   "metadata": {},
   "outputs": [],
   "source": [
    "class Vehículo:\n",
    "    def __init__(self,Color,Tipo,Cilindrada,Velocidad,Dirección,):\n",
    "        self.Color = Color\n",
    "        self.Tipo = Tipo\n",
    "        self.Cilindrada = Cilindrada\n",
    "        self.Velocidad = Velocidad\n",
    "        self.Dirección = Dirección\n",
    "    \n",
    "    def Acelerador(self):\n",
    "        print(\"acelerando\")\n",
    "    \n",
    "    def Frenar(self):\n",
    "        print(\"frenando\")\n",
    "\n",
    "    def Doblar(self):\n",
    "        print(\"doblando\")\n",
    "    \n",
    "    def Estado(self):\n",
    "        print(\"Velocidad\",self.Velocidad,\"Dirección\",self.Dirección)\n",
    "    \n",
    "    def Descripción(self):\n",
    "        print(\"Color \",self.Color,\"Tipo \",self.Tipo, \"Cilindrada \", self.Cilindrada)"
   ]
  },
  {
   "cell_type": "code",
   "execution_count": 5,
   "metadata": {},
   "outputs": [
    {
     "name": "stdout",
     "output_type": "stream",
     "text": [
      "acelerando\n",
      "Color  amarillo Tipo  taxi Cilindrada  1300\n",
      "Velocidad 50Km/h Dirección Norte\n",
      "frenando\n",
      "Color  Negro Tipo  limo Cilindrada  2000\n",
      "Velocidad 60km/h Dirección Sur\n",
      "doblando\n",
      "Color  plata Tipo  moto Cilindrada  500\n",
      "Velocidad 30Km/h Dirección Occidente\n"
     ]
    }
   ],
   "source": [
    "vehículo1 = Vehículo('amarillo','taxi',1300,'50Km/h','Norte')\n",
    "vehículo2 = Vehículo('Negro','limo',2000,'60km/h','Sur')\n",
    "vehículo3 = Vehículo('plata','moto',500,'30Km/h','Occidente')\n",
    "\n",
    "vehículo1.Acelerador()\n",
    "vehículo1.Descripción()\n",
    "vehículo1.Estado()\n",
    "vehículo2.Frenar()\n",
    "vehículo2.Descripción()\n",
    "vehículo2.Estado()\n",
    "vehículo3.Doblar()\n",
    "vehículo3.Descripción()\n",
    "vehículo3.Estado()"
   ]
  },
  {
   "attachments": {},
   "cell_type": "markdown",
   "metadata": {},
   "source": [
    "5) Crear una clase que permita utilizar las funciones creadas en la práctica del módulo 7<br>\n",
    "Verificar Primo<br>\n",
    "Valor modal<br>\n",
    "Conversión grados<br>\n",
    "Factorial<br>"
   ]
  },
  {
   "cell_type": "code",
   "execution_count": 6,
   "metadata": {},
   "outputs": [],
   "source": [
    "class Utilizarmodulo7:\n",
    "    def __init__(self)-> None:\n",
    "        pass\n",
    "        \n",
    "    def esprimo(self,numero):\n",
    "        i=2\n",
    "        esprim = True\n",
    "        while i < numero:\n",
    "            if numero%i == 0:\n",
    "                esprim = False\n",
    "            i+=1\n",
    "        return esprim  \n",
    "    \n",
    "    def devuelvemasrepetido(self,lista):\n",
    "        cuentarep = []\n",
    "        cuentarep2= []\n",
    "        for i,e in enumerate(lista):\n",
    "            cuentarep.insert(i,0)\n",
    "            for j in lista:\n",
    "                if e == j:\n",
    "                    cuentarep[i] = cuentarep[i]+1\n",
    "                    cuentarep2.insert(i,e)\n",
    "        max = 0\n",
    "        index = 0\n",
    "        for j,c in enumerate(cuentarep):\n",
    "            if c > max:\n",
    "                max = c\n",
    "                index = j\n",
    "        return [max,cuentarep2[index]]\n",
    "    \n",
    "    def conviertegrados(self,valor,origen,destino):\n",
    "        if origen == 'Celsius' and  destino == 'Farenheit':\n",
    "            return (valor*9/5) +32\n",
    "        else:\n",
    "            if origen == 'Celsius' and  destino == 'Kelvin':\n",
    "                return valor + 273.15\n",
    "            else:\n",
    "                if origen == 'Farenheit' and  destino == 'Celsius':\n",
    "                    return (valor - 32)*(5/9)\n",
    "                else:\n",
    "                    if origen == 'Farenheit' and  destino == 'Kelvin':\n",
    "                        return (valor - 32)*(5/9) + 273.15\n",
    "                    else:\n",
    "                        if origen == 'Kelvin' and  destino == 'Celsius':\n",
    "                            return valor - 273.15\n",
    "                        else:\n",
    "                            if origen == 'Kelvin' and  destino == 'Farenheit':\n",
    "                                return ((valor - 273.15)*9/5)+32\n",
    "    \n",
    "    def factorial(self, numero):\n",
    "        i = numero\n",
    "        valor = 1\n",
    "        while i > 0:\n",
    "            valor = valor * i\n",
    "            i-=1\n",
    "        return valor"
   ]
  },
  {
   "attachments": {},
   "cell_type": "markdown",
   "metadata": {},
   "source": [
    "6) Probar las funciones incorporadas en la clase del punto 5"
   ]
  },
  {
   "cell_type": "code",
   "execution_count": 7,
   "metadata": {},
   "outputs": [
    {
     "name": "stdout",
     "output_type": "stream",
     "text": [
      "True\n",
      "[3, 2]\n",
      "291.15\n",
      "3628800\n"
     ]
    }
   ],
   "source": [
    "U = Utilizarmodulo7()\n",
    "print (U.esprimo(7))\n",
    "print (U.devuelvemasrepetido([1,10,1,10,2,2,2,3]))\n",
    "print (U.conviertegrados(18,'Celsius','Kelvin'))\n",
    "print (U.factorial(10))\n"
   ]
  },
  {
   "attachments": {},
   "cell_type": "markdown",
   "metadata": {},
   "source": [
    "7) Es necesario que la clase creada en el punto 5 contenga una lista, sobre la cual se apliquen las funciones incorporadas"
   ]
  },
  {
   "cell_type": "code",
   "execution_count": 22,
   "metadata": {},
   "outputs": [],
   "source": [
    "class Utilizarmodulo7:\n",
    "    def __init__(self,lista):\n",
    "        self.lista = lista\n",
    "\n",
    "    def esprimo(self):\n",
    "        for k in self.lista:\n",
    "            if self.__esprim(k):\n",
    "                print(k, \"Es primo\")\n",
    "            else:\n",
    "                print(k, \"No es primo\")\n",
    "\n",
    "    def conviertegrados(self,origen,destino):\n",
    "        for k in self.lista:\n",
    "            print(self.__conviertegrados1(k,origen,destino))\n",
    "    \n",
    "    def factorial(self):\n",
    "        for k in self.lista:\n",
    "            print(self.__factorial1(k))\n",
    "        \n",
    "    def __esprim(self,numero):\n",
    "        i=2\n",
    "        espri = True\n",
    "        while i < numero:\n",
    "            if numero%i == 0:\n",
    "                espri = False\n",
    "            i+=1\n",
    "        return espri\n",
    "  \n",
    "    \n",
    "    def devuelvemasrepetido(self):\n",
    "        cuentarep = []\n",
    "        cuentarep2= []\n",
    "        for i,e in enumerate(self.lista):\n",
    "            cuentarep.insert(i,0)\n",
    "            for j in self.lista:\n",
    "                if e == j:\n",
    "                    cuentarep[i] = cuentarep[i]+1\n",
    "                    cuentarep2.insert(i,e)\n",
    "        max = 0\n",
    "        index = 0\n",
    "        for j,c in enumerate(cuentarep):\n",
    "            if c > max:\n",
    "                max = c\n",
    "                index = j\n",
    "        return [max,cuentarep2[index]]\n",
    "    \n",
    "    def __conviertegrados1(self,valor,origen,destino):\n",
    "        if origen == 'Celsius' and  destino == 'Farenheit':\n",
    "            return (valor*9/5) +32\n",
    "        else:\n",
    "            if origen == 'Celsius' and  destino == 'Kelvin':\n",
    "                return valor + 273.15\n",
    "            else:\n",
    "                if origen == 'Farenheit' and  destino == 'Celsius':\n",
    "                    return (valor - 32)*(5/9)\n",
    "                else:\n",
    "                    if origen == 'Farenheit' and  destino == 'Kelvin':\n",
    "                        return (valor - 32)*(5/9) + 273.15\n",
    "                    else:\n",
    "                        if origen == 'Kelvin' and  destino == 'Celsius':\n",
    "                            return valor - 273.15\n",
    "                        else:\n",
    "                            if origen == 'Kelvin' and  destino == 'Farenheit':\n",
    "                                return ((valor - 273.15)*9/5)+32\n",
    "    \n",
    "    def __factorial1(self, numero):\n",
    "        i = numero\n",
    "        valor = 1\n",
    "        while i > 0:\n",
    "            valor = valor * i\n",
    "            i-=1\n",
    "        return valor"
   ]
  },
  {
   "cell_type": "code",
   "execution_count": 24,
   "metadata": {},
   "outputs": [
    {
     "name": "stdout",
     "output_type": "stream",
     "text": [
      "1 Es primo\n",
      "10 No es primo\n",
      "1 Es primo\n",
      "10 No es primo\n",
      "2 Es primo\n",
      "2 Es primo\n",
      "1 Es primo\n",
      "3 Es primo\n",
      "33.8\n",
      "50.0\n",
      "33.8\n",
      "50.0\n",
      "35.6\n",
      "35.6\n",
      "33.8\n",
      "37.4\n",
      "1\n",
      "3628800\n",
      "1\n",
      "3628800\n",
      "2\n",
      "2\n",
      "1\n",
      "6\n"
     ]
    }
   ],
   "source": [
    "u = Utilizarmodulo7([1,10,1,10,2,2,1,3])\n",
    "u.esprimo()\n",
    "u.conviertegrados(\"Celsius\",\"Farenheit\")\n",
    "u.devuelvemasrepetido()\n",
    "u.factorial()"
   ]
  },
  {
   "cell_type": "code",
   "execution_count": 25,
   "metadata": {},
   "outputs": [
    {
     "name": "stdout",
     "output_type": "stream",
     "text": [
      "1 Es primo\n",
      "10 No es primo\n",
      "1 Es primo\n",
      "10 No es primo\n",
      "2 Es primo\n",
      "2 Es primo\n",
      "1 Es primo\n",
      "3 Es primo\n"
     ]
    }
   ],
   "source": [
    "u.esprimo()"
   ]
  },
  {
   "cell_type": "code",
   "execution_count": 26,
   "metadata": {},
   "outputs": [
    {
     "name": "stdout",
     "output_type": "stream",
     "text": [
      "33.8\n",
      "50.0\n",
      "33.8\n",
      "50.0\n",
      "35.6\n",
      "35.6\n",
      "33.8\n",
      "37.4\n"
     ]
    }
   ],
   "source": [
    "u.conviertegrados(\"Celsius\",\"Farenheit\")"
   ]
  },
  {
   "cell_type": "code",
   "execution_count": 27,
   "metadata": {},
   "outputs": [
    {
     "data": {
      "text/plain": [
       "[3, 1]"
      ]
     },
     "execution_count": 27,
     "metadata": {},
     "output_type": "execute_result"
    }
   ],
   "source": [
    "u.devuelvemasrepetido()"
   ]
  },
  {
   "cell_type": "code",
   "execution_count": 28,
   "metadata": {},
   "outputs": [
    {
     "name": "stdout",
     "output_type": "stream",
     "text": [
      "1\n",
      "3628800\n",
      "1\n",
      "3628800\n",
      "2\n",
      "2\n",
      "1\n",
      "6\n"
     ]
    }
   ],
   "source": [
    "u.factorial()"
   ]
  },
  {
   "attachments": {},
   "cell_type": "markdown",
   "metadata": {},
   "source": [
    "8) Crear un archivo .py aparte y ubicar allí la clase generada en el punto anterior. Luego realizar la importación del módulo y probar alguna de sus funciones"
   ]
  },
  {
   "cell_type": "code",
   "execution_count": 29,
   "metadata": {},
   "outputs": [],
   "source": [
    "from utilizarmodulo7 import *"
   ]
  },
  {
   "cell_type": "code",
   "execution_count": 30,
   "metadata": {},
   "outputs": [],
   "source": [
    "u = Utilizarmodulo7([1,10,1,10,2,2,2,3,4,4,4,4])"
   ]
  },
  {
   "cell_type": "code",
   "execution_count": 31,
   "metadata": {},
   "outputs": [
    {
     "name": "stdout",
     "output_type": "stream",
     "text": [
      "1 Es primo\n",
      "10 No es primo\n",
      "1 Es primo\n",
      "10 No es primo\n",
      "2 Es primo\n",
      "2 Es primo\n",
      "2 Es primo\n",
      "3 Es primo\n",
      "4 No es primo\n",
      "4 No es primo\n",
      "4 No es primo\n",
      "4 No es primo\n",
      "33.8\n",
      "50.0\n",
      "33.8\n",
      "50.0\n",
      "35.6\n",
      "35.6\n",
      "35.6\n",
      "37.4\n",
      "39.2\n",
      "39.2\n",
      "39.2\n",
      "39.2\n",
      "1\n",
      "3628800\n",
      "1\n",
      "3628800\n",
      "2\n",
      "2\n",
      "2\n",
      "6\n",
      "24\n",
      "24\n",
      "24\n",
      "24\n"
     ]
    }
   ],
   "source": [
    "u.esprimo()\n",
    "u.conviertegrados(\"Celsius\",\"Farenheit\")\n",
    "u.factorial()"
   ]
  },
  {
   "cell_type": "code",
   "execution_count": 32,
   "metadata": {},
   "outputs": [
    {
     "name": "stdout",
     "output_type": "stream",
     "text": [
      "[4, 4]\n"
     ]
    }
   ],
   "source": [
    "u.devuelvemasrepetido()"
   ]
  }
 ],
 "metadata": {
  "interpreter": {
   "hash": "c85384e4cb51c8b72350f3a8712cc8351fdc3955e32a27f9b60c6242ab125f01"
  },
  "kernelspec": {
   "display_name": "Python 3 (ipykernel)",
   "language": "python",
   "name": "python3"
  },
  "language_info": {
   "codemirror_mode": {
    "name": "ipython",
    "version": 3
   },
   "file_extension": ".py",
   "mimetype": "text/x-python",
   "name": "python",
   "nbconvert_exporter": "python",
   "pygments_lexer": "ipython3",
   "version": "3.12.0"
  }
 },
 "nbformat": 4,
 "nbformat_minor": 4
}
